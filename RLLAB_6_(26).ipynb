{
  "cells": [
    {
      "cell_type": "code",
      "execution_count": 1,
      "metadata": {
        "colab": {
          "base_uri": "https://localhost:8080/"
        },
        "id": "g0RWdZSWx9l_",
        "outputId": "2a8d5518-3c6f-4eff-ba75-78ab88790b57"
      },
      "outputs": [
        {
          "output_type": "stream",
          "name": "stderr",
          "text": [
            "/usr/local/lib/python3.9/dist-packages/gym/core.py:317: DeprecationWarning: \u001b[33mWARN: Initializing wrapper in old step API which returns one bool instead of two. It is recommended to set `new_step_api=True` to use new step API. This will be the default behaviour in future.\u001b[0m\n",
            "  deprecation(\n",
            "/usr/local/lib/python3.9/dist-packages/gym/wrappers/step_api_compatibility.py:39: DeprecationWarning: \u001b[33mWARN: Initializing environment in old step API which returns one bool instead of two. It is recommended to set `new_step_api=True` to use new step API. This will be the default behaviour in future.\u001b[0m\n",
            "  deprecation(\n"
          ]
        },
        {
          "output_type": "stream",
          "name": "stdout",
          "text": [
            "Random Policy 1 - Average steps per episode: 7.836\n",
            "Random Policy 2 - Average steps per episode: 7.66\n"
          ]
        }
      ],
      "source": [
        "import gym\n",
        "import random\n",
        "\n",
        "# Create the 4x4 grid world environment\n",
        "env = gym.make(\"FrozenLake-v1\", is_slippery=False)\n",
        "\n",
        "# Policy 1: Random Policy 1\n",
        "def random_policy_1():\n",
        "    # Choose a random action from the available actions\n",
        "    action = env.action_space.sample()\n",
        "    return action\n",
        "\n",
        "# Policy 2: Random Policy 2\n",
        "def random_policy_2():\n",
        "    # Choose a random action from the available actions\n",
        "    action = env.action_space.sample()\n",
        "    return action\n",
        "\n",
        "# Run simulations with both random policies and evaluate their performance\n",
        "num_episodes = 1000\n",
        "total_steps_policy1 = 0\n",
        "total_steps_policy2 = 0\n",
        "\n",
        "for episode in range(num_episodes):\n",
        "    state = env.reset()\n",
        "    done = False\n",
        "\n",
        "    # Policy 1: Random Policy 1\n",
        "    while not done:\n",
        "        action = random_policy_1()\n",
        "        next_state, reward, done, _ = env.step(action)\n",
        "        state = next_state\n",
        "        total_steps_policy1 += 1\n",
        "\n",
        "    state = env.reset()\n",
        "    done = False\n",
        "\n",
        "    # Policy 2: Random Policy 2\n",
        "    while not done:\n",
        "        action = random_policy_2()\n",
        "        next_state, reward, done, _ = env.step(action)\n",
        "        state = next_state\n",
        "        total_steps_policy2 += 1\n",
        "\n",
        "# Print results\n",
        "print(\"Random Policy 1 - Average steps per episode:\", total_steps_policy1 / num_episodes)\n",
        "print(\"Random Policy 2 - Average steps per episode:\", total_steps_policy2 / num_episodes)\n"
      ]
    }
  ],
  "metadata": {
    "colab": {
      "provenance": []
    },
    "kernelspec": {
      "display_name": "Python 3",
      "name": "python3"
    },
    "language_info": {
      "codemirror_mode": {
        "name": "ipython",
        "version": 3
      },
      "file_extension": ".py",
      "mimetype": "text/x-python",
      "name": "python",
      "nbconvert_exporter": "python",
      "pygments_lexer": "ipython3",
      "version": "3.9.13"
    }
  },
  "nbformat": 4,
  "nbformat_minor": 0
}